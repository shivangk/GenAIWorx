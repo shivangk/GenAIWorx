{
 "cells": [
  {
   "cell_type": "markdown",
   "metadata": {
    "id": "kqZq8WWqoVVT"
   },
   "source": [
    "# Building the chatbot using Deepseek R1 1.5B model on Ollama - hosted locally"
   ]
  },
  {
   "cell_type": "markdown",
   "metadata": {},
   "source": [
    "## To run in local system"
   ]
  },
  {
   "cell_type": "code",
   "execution_count": 1,
   "metadata": {},
   "outputs": [],
   "source": [
    "#import libraries\n",
    "from openai import OpenAI\n",
    "import pdfplumber\n",
    "import re\n",
    "import pandas as pd\n",
    "import json\n",
    "pdf_path = \"NipponIndia-Short-Term-Fund-Jan-2024.pdf\""
   ]
  },
  {
   "cell_type": "markdown",
   "metadata": {},
   "source": [
    "### Calling Ollama to act as server to locally stored Deepseek R1 1.5 B model"
   ]
  },
  {
   "cell_type": "code",
   "execution_count": 7,
   "metadata": {},
   "outputs": [],
   "source": [
    "client = OpenAI(api_key=\"ollama\", base_url=\"http://localhost:11434/v1/\")"
   ]
  },
  {
   "cell_type": "markdown",
   "metadata": {
    "id": "LetoIolVK6Km"
   },
   "source": [
    "### Enable Custom Knowledge to DeepSeek"
   ]
  },
  {
   "cell_type": "code",
   "execution_count": 9,
   "metadata": {
    "id": "jHyu6_cz-O4D"
   },
   "outputs": [],
   "source": [
    "def get_response(messages, model=\"deepseek-r1:1.5b\", temperature=0.7, top_p=0.85):\n",
    "    response = client.chat.completions.create(\n",
    "        model=model,\n",
    "        messages=messages,\n",
    "        temperature=temperature,  # Controls randomness (lower = more predictable)\n",
    "        top_p=top_p              # Limits vocabulary diversity\n",
    "    )\n",
    "    \n",
    "    cleaned_text = re.sub(r'<think>.*?</think>', '', response.choices[0].message.content, flags=re.DOTALL)\n",
    "    return cleaned_text.strip()\n",
    "\n",
    "# Example usage\n",
    "# messages = [{'role': 'user', 'content': 'Tell me about space exploration.'}]\n",
    "# print(get_response(messages, temperature=0.6, top_p=0.85, top_k=40))\n"
   ]
  },
  {
   "cell_type": "code",
   "execution_count": 11,
   "metadata": {
    "colab": {
     "base_uri": "https://localhost:8080/"
    },
    "id": "jUs2p8Xv-O6p",
    "outputId": "33919595-9d84-4a76-afa6-3638e75a8f7d"
   },
   "outputs": [
    {
     "name": "stdout",
     "output_type": "stream",
     "text": [
      "I am sorry, I cannot answer that question.\n"
     ]
    }
   ],
   "source": [
    "prompt='What is the theme of DHS 2025?'\n",
    "messages=[{\"role\":\"user\",\"content\":prompt}]\n",
    "print(get_response(messages))"
   ]
  },
  {
   "cell_type": "markdown",
   "metadata": {
    "id": "Yor-J5L7Kylq"
   },
   "source": [
    "**Loading the PDF document for context**\n",
    "\n",
    "It was a big challenge as the document was complex. So following is the stratgey I have used:\n",
    "\n",
    "* Extract text from page1\n",
    "* Extract the tables and text separately\n",
    "* Format the extracted tables correctly"
   ]
  },
  {
   "cell_type": "code",
   "execution_count": 3,
   "metadata": {
    "id": "jYwnxKTK-IBO",
    "scrolled": true
   },
   "outputs": [],
   "source": [
    "def extract_specific_table(pdf_path, page_num, table_index):\n",
    "    with pdfplumber.open(pdf_path) as pdf:\n",
    "        page = pdf.pages[page_num - 1]\n",
    "        tables = page.extract_tables()\n",
    "\n",
    "        if 0 <= table_index < len(tables):  # Ensure valid index\n",
    "            return tables[table_index]\n",
    "        else:\n",
    "            return None\n",
    "\n",
    "def format_table(data):\n",
    "    formatted_data = []\n",
    "    \n",
    "    for i in range(len(data)):\n",
    "        key, value = data[i]\n",
    "        \n",
    "        # If key contains newline, split it and distribute parts across rows\n",
    "        if \"\\n\" in key:\n",
    "            split_keys = key.split(\"\\n\")\n",
    "            formatted_data.append([split_keys[0], value])  # First part remains\n",
    "            for extra_key in split_keys[1:]:\n",
    "                if i + 1 < len(data) and data[i + 1][0] is None:  # If next row has None, replace it\n",
    "                    data[i + 1][0] = extra_key\n",
    "                else:\n",
    "                    formatted_data.append([extra_key, \"\"])  # Otherwise, add separately\n",
    "        else:\n",
    "            formatted_data.append([key, value])\n",
    "\n",
    "    data_dict = {row[0]: row[1] for row in formatted_data}\n",
    "    \n",
    "    return  {key: (value if value is not None else \" \") for key, value in data_dict.items()}\n",
    "\n",
    "\n",
    "def extract_sections(pdf_path, page_num, bbox_list):\n",
    "    extracted_data = {}\n",
    "\n",
    "    with pdfplumber.open(pdf_path) as pdf:\n",
    "        page = pdf.pages[page_num - 1]\n",
    "\n",
    "        for bbox in bbox_list:\n",
    "            cropped_page = page.within_bbox(bbox)\n",
    "            text = cropped_page.extract_text()\n",
    "\n",
    "            if text:\n",
    "                lines = text.split(\"\\n\")\n",
    "                title = lines[0]  # First line (usually the title in the red box)\n",
    "                content = \"\\n\".join(lines[1:])  # Remaining text as content\n",
    "                extracted_data[title] = content.replace('\\n',' ')\n",
    "\n",
    "    return extracted_data\n",
    "\n",
    "def extract_text_from_first_page(pdf_path):\n",
    "    with pdfplumber.open(pdf_path) as pdf:\n",
    "        first_page = pdf.pages[0]  # Page indexing starts from 0\n",
    "        text = first_page.extract_text()\n",
    "        return text.replace('\\n',' ').strip() if text else \"No text found\"\n"
   ]
  },
  {
   "cell_type": "code",
   "execution_count": 5,
   "metadata": {
    "scrolled": true
   },
   "outputs": [
    {
     "name": "stderr",
     "output_type": "stream",
     "text": [
      "CropBox missing from /Page, defaulting to MediaBox\n",
      "CropBox missing from /Page, defaulting to MediaBox\n",
      "CropBox missing from /Page, defaulting to MediaBox\n",
      "CropBox missing from /Page, defaulting to MediaBox\n",
      "CropBox missing from /Page, defaulting to MediaBox\n",
      "CropBox missing from /Page, defaulting to MediaBox\n",
      "CropBox missing from /Page, defaulting to MediaBox\n",
      "CropBox missing from /Page, defaulting to MediaBox\n",
      "CropBox missing from /Page, defaulting to MediaBox\n",
      "CropBox missing from /Page, defaulting to MediaBox\n",
      "CropBox missing from /Page, defaulting to MediaBox\n",
      "CropBox missing from /Page, defaulting to MediaBox\n",
      "CropBox missing from /Page, defaulting to MediaBox\n",
      "CropBox missing from /Page, defaulting to MediaBox\n",
      "CropBox missing from /Page, defaulting to MediaBox\n",
      "CropBox missing from /Page, defaulting to MediaBox\n",
      "CropBox missing from /Page, defaulting to MediaBox\n",
      "CropBox missing from /Page, defaulting to MediaBox\n",
      "CropBox missing from /Page, defaulting to MediaBox\n",
      "CropBox missing from /Page, defaulting to MediaBox\n",
      "CropBox missing from /Page, defaulting to MediaBox\n",
      "CropBox missing from /Page, defaulting to MediaBox\n",
      "CropBox missing from /Page, defaulting to MediaBox\n",
      "CropBox missing from /Page, defaulting to MediaBox\n",
      "CropBox missing from /Page, defaulting to MediaBox\n",
      "CropBox missing from /Page, defaulting to MediaBox\n",
      "CropBox missing from /Page, defaulting to MediaBox\n",
      "CropBox missing from /Page, defaulting to MediaBox\n",
      "CropBox missing from /Page, defaulting to MediaBox\n",
      "CropBox missing from /Page, defaulting to MediaBox\n"
     ]
    }
   ],
   "source": [
    "# getting important tables from page 2\n",
    "scheme_info = format_table(extract_specific_table(pdf_path, page_num=2, table_index=2)) # Table 2 on pg2\n",
    "scheme_attribute = format_table(extract_specific_table(pdf_path, page_num=2, table_index=0)) # Table 1 on pg2\n",
    "\n",
    "# Extracting table no.2 from page 2. long table needs special treatment\n",
    "portfolio_details_tab = extract_specific_table(pdf_path, page_num=2, table_index=1)\n",
    "columns = [col.replace(\"\\n\", \" \") if col else \"Unknown\" for col in portfolio_details_tab[1]]\n",
    "data = portfolio_details_tab[2:]\n",
    "portfolio_details_df = pd.DataFrame(data, columns=columns)\n",
    "\n",
    "portfolio_details = portfolio_details_df.to_json(orient=\"records\", indent=4) \n",
    "\n",
    "\n",
    "# getting sections from page 2\n",
    "# Define bounding boxes manually (adjust based on your debugging)\n",
    "bbox_list = [\n",
    "    (40, 30, 300, 80),  # About Nipon\n",
    "    (40, 80, 300, 210),  # \"Who Should Invest\" section\n",
    "    (40, 220, 300, 310)  # \"Current Strategy\" section\n",
    "]\n",
    "\n",
    "about_scheme = extract_sections(pdf_path,2, bbox_list)\n",
    "\n",
    "#first page text\n",
    "first_page_text = extract_text_from_first_page(pdf_path)"
   ]
  },
  {
   "cell_type": "code",
   "execution_count": 41,
   "metadata": {},
   "outputs": [
    {
     "data": {
      "text/plain": [
       "{'Scheme Attributes as on January 31, 2024': ' ',\n",
       " 'Weighted Average YTM*': '7.85%',\n",
       " 'Weighted Average Maturity': '3.47 Years',\n",
       " 'Modified Duration': '2.69 Years'}"
      ]
     },
     "execution_count": 41,
     "metadata": {},
     "output_type": "execute_result"
    }
   ],
   "source": [
    "scheme_attribute"
   ]
  },
  {
   "cell_type": "code",
   "execution_count": 7,
   "metadata": {},
   "outputs": [
    {
     "data": {
      "text/plain": [
       "{'Inception Date': 'December 18, 2002',\n",
       " 'Fund Manager#': 'Sushil Budhia, Vivek Sharma',\n",
       " 'Minimum Application': 'Rs. 5,000 & in multiples of Re.1 thereafter',\n",
       " 'Benchmark': '',\n",
       " 'Amount': 'CRISIL Short Duration B-II Index',\n",
       " 'Month end AUM as on': 'Rs. 5,967.53Crs',\n",
       " 'January 31, 2024': '',\n",
       " 'Plans & Options': 'i)Growth Plan/Direct Plan - Growth Plan:\\nGrowth Option\\nii) a) IDCW Plan/ Direct Plan - IDCW Plan\\n- IDCW Option\\nb) IDCW Plan/ Direct Plan - IDCW Plan\\nwith the frequency of Monthly,\\nQuarterly)\\nBoth the above mentioned IDCW\\nplan/ Direct Plan - IDCW Plan offers\\nPayout of IDCW and Reinvestment\\nof IDCW facility.',\n",
       " '(** If charged, the same shall': '',\n",
       " 'be credited to the scheme': '',\n",
       " 'immediately net of goods &': '',\n",
       " 'service tax, if any)': '',\n",
       " 'Exit Load**': 'Nil',\n",
       " '': ' '}"
      ]
     },
     "execution_count": 7,
     "metadata": {},
     "output_type": "execute_result"
    }
   ],
   "source": [
    "scheme_info"
   ]
  },
  {
   "cell_type": "code",
   "execution_count": 11,
   "metadata": {},
   "outputs": [
    {
     "name": "stdout",
     "output_type": "stream",
     "text": [
      "[\n",
      "    {\n",
      "        \"Company\\/Issuer\":\"Certificate of Deposit\",\n",
      "        \"Rating\":\"\",\n",
      "        \"% of Assets\":\"1.56%\"\n",
      "    },\n",
      "    {\n",
      "        \"Company\\/Issuer\":\"Axis Bank Limited\",\n",
      "        \"Rating\":\"CRISIL A1+\",\n",
      "        \"% of Assets\":\"1.56%\"\n",
      "    },\n",
      "    {\n",
      "        \"Company\\/Issuer\":\"Commercial Paper\",\n",
      "        \"Rating\":\"\",\n",
      "        \"% of Assets\":\"0.82%\"\n",
      "    },\n",
      "    {\n",
      "        \"Company\\/Issuer\":\"HDFC Bank Limited\",\n",
      "        \"Rating\":\"CRISIL A1+\",\n",
      "        \"% of Assets\":\"0.82%\"\n",
      "    },\n",
      "    {\n",
      "        \"Company\\/Issuer\":\"Corporate Bond\",\n",
      "        \"Rating\":\"\",\n",
      "        \"% of Assets\":\"57.43%\"\n",
      "    },\n",
      "    {\n",
      "        \"Company\\/Issuer\":\"REC Limited\",\n",
      "        \"Rating\":\"CRISIL AAA\",\n",
      "        \"% of Assets\":\"6.83%\"\n",
      "    },\n",
      "    {\n",
      "        \"Company\\/Issuer\":\"Small Industries Dev Bank of India\",\n",
      "        \"Rating\":\"ICRA\\nAAA\\/CRISIL\\nAAA\",\n",
      "        \"% of Assets\":\"5.21%\"\n",
      "    },\n",
      "    {\n",
      "        \"Company\\/Issuer\":\"National Bank For Agriculture and Rural\\nDevelopment\",\n",
      "        \"Rating\":\"CRISIL\\nAAA\\/ICRA\\nAAA\",\n",
      "        \"% of Assets\":\"5.02%\"\n",
      "    },\n",
      "    {\n",
      "        \"Company\\/Issuer\":\"Power Finance Corporation Limited\",\n",
      "        \"Rating\":\"CRISIL AAA\",\n",
      "        \"% of Assets\":\"3.91%\"\n",
      "    },\n",
      "    {\n",
      "        \"Company\\/Issuer\":\"Bharti Telecom Limited\",\n",
      "        \"Rating\":\"CRISIL AA+\",\n",
      "        \"% of Assets\":\"3.55%\"\n",
      "    },\n",
      "    {\n",
      "        \"Company\\/Issuer\":\"Muthoot Finance Limited\",\n",
      "        \"Rating\":\"CRISIL AA+\",\n",
      "        \"% of Assets\":\"3.35%\"\n",
      "    },\n",
      "    {\n",
      "        \"Company\\/Issuer\":\"HDFC Bank Limited\",\n",
      "        \"Rating\":\"CRISIL AAA\",\n",
      "        \"% of Assets\":\"3.04%\"\n",
      "    },\n",
      "    {\n",
      "        \"Company\\/Issuer\":\"LIC Housing Finance Limited\",\n",
      "        \"Rating\":\"CRISIL AAA\",\n",
      "        \"% of Assets\":\"2.92%\"\n",
      "    },\n",
      "    {\n",
      "        \"Company\\/Issuer\":\"India Grid Trust InvIT Fund (India Grid Trust\\nGroup)\",\n",
      "        \"Rating\":\"CRISIL AAA\",\n",
      "        \"% of Assets\":\"2.65%\"\n",
      "    },\n",
      "    {\n",
      "        \"Company\\/Issuer\":\"Torrent Power Limited (Torrent group)\",\n",
      "        \"Rating\":\"CRISIL AA+\",\n",
      "        \"% of Assets\":\"2.65%\"\n",
      "    },\n",
      "    {\n",
      "        \"Company\\/Issuer\":\"Mahindra & Mahindra Financial Services\\nLimited\",\n",
      "        \"Rating\":\"CRISIL AAA\",\n",
      "        \"% of Assets\":\"2%\"\n",
      "    },\n",
      "    {\n",
      "        \"Company\\/Issuer\":\"PNB Housing Finance Limited\",\n",
      "        \"Rating\":\"ICRA AA\",\n",
      "        \"% of Assets\":\"1.68%\"\n",
      "    },\n",
      "    {\n",
      "        \"Company\\/Issuer\":\"Titan Company Limited\",\n",
      "        \"Rating\":\"CRISIL AAA\",\n",
      "        \"% of Assets\":\"1.67%\"\n",
      "    },\n",
      "    {\n",
      "        \"Company\\/Issuer\":\"Samvardhana Motherson International\\nLimited\",\n",
      "        \"Rating\":\"FITCH AAA\",\n",
      "        \"% of Assets\":\"1.5%\"\n",
      "    },\n",
      "    {\n",
      "        \"Company\\/Issuer\":\"Grasim Industries Limited\",\n",
      "        \"Rating\":\"CRISIL AAA\",\n",
      "        \"% of Assets\":\"1.5%\"\n",
      "    },\n",
      "    {\n",
      "        \"Company\\/Issuer\":\"360 One Prime Limited\",\n",
      "        \"Rating\":\"CRISIL AA\",\n",
      "        \"% of Assets\":\"1.42%\"\n",
      "    },\n",
      "    {\n",
      "        \"Company\\/Issuer\":\"Tata Capital Limited\",\n",
      "        \"Rating\":\"ICRA AAA\",\n",
      "        \"% of Assets\":\"1.26%\"\n",
      "    },\n",
      "    {\n",
      "        \"Company\\/Issuer\":\"HDB Financial Services Limited\",\n",
      "        \"Rating\":\"CRISIL AAA\",\n",
      "        \"% of Assets\":\"1.08%\"\n",
      "    },\n",
      "    {\n",
      "        \"Company\\/Issuer\":\"Summit Digitel Infrastructure Limited\\n(BROOKFIELD GROUP)\",\n",
      "        \"Rating\":\"CRISIL AAA\",\n",
      "        \"% of Assets\":\"0.84%\"\n",
      "    },\n",
      "    {\n",
      "        \"Company\\/Issuer\":\"Jamnagar Utilities & Power Private Limited\\n(Mukesh Ambani Group)\",\n",
      "        \"Rating\":\"CRISIL AAA\",\n",
      "        \"% of Assets\":\"0.84%\"\n",
      "    },\n",
      "    {\n",
      "        \"Company\\/Issuer\":\"Swarna Tollway Private Limited (MACQUARIE\\nGROUP)\",\n",
      "        \"Rating\":\"CRISIL AAA\",\n",
      "        \"% of Assets\":\"0.72%\"\n",
      "    },\n",
      "    {\n",
      "        \"Company\\/Issuer\":\"Larsen & Toubro Limited\",\n",
      "        \"Rating\":\"CRISIL AAA\",\n",
      "        \"% of Assets\":\"0.59%\"\n",
      "    },\n",
      "    {\n",
      "        \"Company\\/Issuer\":\"Tata Capital Housing Finance Limited\",\n",
      "        \"Rating\":\"CRISIL AAA\",\n",
      "        \"% of Assets\":\"0.57%\"\n",
      "    },\n",
      "    {\n",
      "        \"Company\\/Issuer\":\"Power Grid Corporation of India Limited\",\n",
      "        \"Rating\":\"CRISIL AAA\",\n",
      "        \"% of Assets\":\"0.54%\"\n",
      "    },\n",
      "    {\n",
      "        \"Company\\/Issuer\":\"Kotak Mahindra Prime Limited\",\n",
      "        \"Rating\":\"CRISIL AAA\",\n",
      "        \"% of Assets\":\"0.5%\"\n",
      "    },\n",
      "    {\n",
      "        \"Company\\/Issuer\":\"The Federal Bank Limited\",\n",
      "        \"Rating\":\"FITCH AA\",\n",
      "        \"% of Assets\":\"0.45%\"\n",
      "    },\n",
      "    {\n",
      "        \"Company\\/Issuer\":\"Shriram Finance Limited\",\n",
      "        \"Rating\":\"CRISIL AA+\",\n",
      "        \"% of Assets\":\"0.42%\"\n",
      "    },\n",
      "    {\n",
      "        \"Company\\/Issuer\":\"NTPC Limited\",\n",
      "        \"Rating\":\"CRISIL AAA\",\n",
      "        \"% of Assets\":\"0.41%\"\n",
      "    },\n",
      "    {\n",
      "        \"Company\\/Issuer\":\"Bajaj Housing Finance Limited\",\n",
      "        \"Rating\":\"CRISIL AAA\",\n",
      "        \"% of Assets\":\"0.25%\"\n",
      "    },\n",
      "    {\n",
      "        \"Company\\/Issuer\":\"NHPC Limited\",\n",
      "        \"Rating\":\"CARE AAA\",\n",
      "        \"% of Assets\":\"0.05%\"\n",
      "    },\n",
      "    {\n",
      "        \"Company\\/Issuer\":\"India Infradebt Limited (India Infradebt\\nLimited)\",\n",
      "        \"Rating\":\"CRISIL AAA\",\n",
      "        \"% of Assets\":\"0.02%\"\n",
      "    },\n",
      "    {\n",
      "        \"Company\\/Issuer\":\"Government Bond\",\n",
      "        \"Rating\":\"\",\n",
      "        \"% of Assets\":\"23.95%\"\n",
      "    },\n",
      "    {\n",
      "        \"Company\\/Issuer\":\"Government of India\",\n",
      "        \"Rating\":\"SOV\",\n",
      "        \"% of Assets\":\"23.95%\"\n",
      "    },\n",
      "    {\n",
      "        \"Company\\/Issuer\":\"\",\n",
      "        \"Rating\":null,\n",
      "        \"% of Assets\":null\n",
      "    }\n",
      "]\n"
     ]
    }
   ],
   "source": [
    "print(portfolio_details)"
   ]
  }
 ],
 "metadata": {
  "colab": {
   "provenance": []
  },
  "kernelspec": {
   "display_name": "Python 3 (ipykernel)",
   "language": "python",
   "name": "python3"
  },
  "language_info": {
   "codemirror_mode": {
    "name": "ipython",
    "version": 3
   },
   "file_extension": ".py",
   "mimetype": "text/x-python",
   "name": "python",
   "nbconvert_exporter": "python",
   "pygments_lexer": "ipython3",
   "version": "3.12.4"
  }
 },
 "nbformat": 4,
 "nbformat_minor": 4
}
